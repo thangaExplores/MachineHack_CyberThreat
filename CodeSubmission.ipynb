{
 "cells": [
  {
   "cell_type": "code",
   "execution_count": null,
   "id": "26ffa724",
   "metadata": {},
   "outputs": [],
   "source": [
    "#loading the packages\n",
    "from transformers import pipeline\n",
    "import transformers\n",
    "import pandas as pd\n",
    "import re, os\n",
    "from tqdm import tqdm\n",
    "from sklearn.preprocessing import MultiLabelBinarizer"
   ]
  },
  {
   "cell_type": "code",
   "execution_count": null,
   "id": "5b3f2dc9",
   "metadata": {},
   "outputs": [],
   "source": [
    "#Loading the model trained for token classification using Stackover flow Text mixed with codes\n",
    "pipe = pipeline(\"token-classification\", model=\"mrm8488/codebert-base-finetuned-stackoverflow-ner\")\n"
   ]
  },
  {
   "cell_type": "code",
   "execution_count": null,
   "id": "10d84986",
   "metadata": {},
   "outputs": [],
   "source": [
    "#loading the data\n",
    "df = pd.read_json(\"/content/datafinal.json\")\n",
    "print(df.info())"
   ]
  },
  {
   "cell_type": "code",
   "execution_count": null,
   "id": "947baa43",
   "metadata": {},
   "outputs": [],
   "source": [
    "#Inferencing the model to classify tokens and filters only codeblocks from the text\n",
    "res = []\n",
    "code_blocks = []\n",
    "#Start Detect using default model without training. Only Inference\n",
    "for text in tqdm(df['Text']):\n",
    "    #print(type(pipe(text)))\n",
    "    ouptut_res = pipe(text)\n",
    "    res.append(ouptut_res)\n",
    "    code_block = ''\n",
    "    for result in ouptut_res:\n",
    "      #print(result)\n",
    "      if \"Code_Block\" in  result['entity'] or \"Value\" in result['entity']:\n",
    "        code_block += result['word'].replace(\"Ġ\",\" \").replace(\"Ċ\", \" \")\n",
    "\n",
    "    code_blocks.append(code_block)"
   ]
  },
  {
   "cell_type": "code",
   "execution_count": null,
   "id": "a9c1bb42",
   "metadata": {},
   "outputs": [],
   "source": [
    "df['Result_li'] = res\n",
    "df['Code_block_NER'] = code_blocks"
   ]
  },
  {
   "cell_type": "code",
   "execution_count": null,
   "id": "17454786",
   "metadata": {},
   "outputs": [],
   "source": [
    "op = df.copy()"
   ]
  },
  {
   "cell_type": "code",
   "execution_count": null,
   "id": "f102f155",
   "metadata": {},
   "outputs": [],
   "source": [
    "%%time\n",
    "code_li_new = []\n",
    "for r, txt in zip(op['Result_li'], op['Text']):\n",
    "    #print(\"*\"*100)\n",
    "    #print(txt)\n",
    "    #print(\"*\"*100)\n",
    "    code = \"\"\n",
    "    res = ast.literal_eval(r)\n",
    "    if len(res) > 0:\n",
    "        temp = pd.DataFrame(res)\n",
    "        code_start_pos = temp[temp['entity'].str.contains(\"Code_Block\")]['start'].min()\n",
    "        code_end_pos   = temp[temp['entity'].str.contains(\"Code_Block|Class\")]['end'].max()\n",
    "        #print(code_end_pos, code_start_pos)\n",
    "        if code_end_pos >= 0 and code_start_pos >= 0:\n",
    "            #code =  txt[code_start_pos:code_end_pos]\n",
    "            #code = code.replace(\"\\n\", \" \").replace(\"\\t\", \" \")\n",
    "            \n",
    "            for rs in res:\n",
    "                if rs['start'] >= code_start_pos and rs['end'] <= code_end_pos:\n",
    "                    code = code + rs['word'].replace(\"Ġ\", \" \").replace(\"Ċ\", \" \").replace(\"ĉ\", \" \")\n",
    "    else:\n",
    "        code = \"\"\n",
    "    code_li_new.append(code)\n",
    "    #print(code)\n",
    "    #print(\"_\"*100)"
   ]
  },
  {
   "cell_type": "code",
   "execution_count": null,
   "id": "66e8d540",
   "metadata": {},
   "outputs": [],
   "source": [
    "mlb = MultiLabelBinarizer()\n",
    "df[\"CodeList\"].fillna(\"\",inplace=True)\n",
    "s1 = df[\"CodeList\"]\n",
    "t1 = mlb.fit_transform(s1)"
   ]
  },
  {
   "cell_type": "code",
   "execution_count": null,
   "id": "f3810ad5",
   "metadata": {},
   "outputs": [],
   "source": [
    "op['CodeList'].fillna('', inplace=True)\n",
    "op[\"Code_block_NER_new\"] = [nr if cl==\"\" else cl for cl, nr in zip(op['CodeList'], op['Code_block_NER'])] # op['Code_block_NER']\n",
    "op[\"Code_block_NER_new\"].fillna(\"\",inplace=True)\n"
   ]
  },
  {
   "cell_type": "code",
   "execution_count": null,
   "id": "e71f73d2",
   "metadata": {},
   "outputs": [],
   "source": [
    "#Submission file Creation\n",
    "\n",
    "pd.DataFrame(mlb.transform(op['Code_block_NER_new'])).to_csv(\"submision_base_bert_ner_result.csv\", index=False)"
   ]
  }
 ],
 "metadata": {
  "kernelspec": {
   "display_name": "NLP_Tasks",
   "language": "python",
   "name": "nlp_tasks"
  },
  "language_info": {
   "codemirror_mode": {
    "name": "ipython",
    "version": 3
   },
   "file_extension": ".py",
   "mimetype": "text/x-python",
   "name": "python",
   "nbconvert_exporter": "python",
   "pygments_lexer": "ipython3",
   "version": "3.9.8"
  }
 },
 "nbformat": 4,
 "nbformat_minor": 5
}
